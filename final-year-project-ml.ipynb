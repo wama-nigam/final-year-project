{
 "cells": [
  {
   "cell_type": "code",
   "execution_count": 23,
   "metadata": {},
   "outputs": [],
   "source": [
    "import pandas as pd\n",
    "import numpy as np\n",
    "import nltk\n",
    "from nltk.corpus import stopwords\n",
    "from sklearn.feature_extraction.text import TfidfVectorizer\n",
    "from nltk.tokenize import word_tokenize\n",
    "from nltk.stem.porter import PorterStemmer\n",
    "import re"
   ]
  },
  {
   "cell_type": "code",
   "execution_count": 8,
   "metadata": {},
   "outputs": [
    {
     "name": "stderr",
     "output_type": "stream",
     "text": [
      "C:\\Users\\DELL\\AppData\\Local\\Temp\\ipykernel_1320\\3942872096.py:1: DtypeWarning: Columns (6) have mixed types. Specify dtype option on import or set low_memory=False.\n",
      "  df = pd.read_csv('C:/Users/DELL/Desktop/finalyearproject/allitems.csv', header=None)\n"
     ]
    }
   ],
   "source": [
    "df = pd.read_csv('C:/Users/DELL/Desktop/finalyearproject/allitems.csv', header=None)\n"
   ]
  },
  {
   "cell_type": "code",
   "execution_count": 9,
   "metadata": {},
   "outputs": [
    {
     "data": {
      "text/html": [
       "<div>\n",
       "<style scoped>\n",
       "    .dataframe tbody tr th:only-of-type {\n",
       "        vertical-align: middle;\n",
       "    }\n",
       "\n",
       "    .dataframe tbody tr th {\n",
       "        vertical-align: top;\n",
       "    }\n",
       "\n",
       "    .dataframe thead th {\n",
       "        text-align: right;\n",
       "    }\n",
       "</style>\n",
       "<table border=\"1\" class=\"dataframe\">\n",
       "  <thead>\n",
       "    <tr style=\"text-align: right;\">\n",
       "      <th></th>\n",
       "      <th>0</th>\n",
       "      <th>1</th>\n",
       "      <th>2</th>\n",
       "      <th>3</th>\n",
       "      <th>4</th>\n",
       "      <th>5</th>\n",
       "      <th>6</th>\n",
       "    </tr>\n",
       "  </thead>\n",
       "  <tbody>\n",
       "    <tr>\n",
       "      <th>0</th>\n",
       "      <td>CVE-1999-0001</td>\n",
       "      <td>Candidate</td>\n",
       "      <td>ip_input.c in BSD-derived TCP/IP implementatio...</td>\n",
       "      <td>BUGTRAQ:19981223 Re: CERT Advisory CA-98.13 - ...</td>\n",
       "      <td>Modified (20051217)</td>\n",
       "      <td>MODIFY(1) Frech  |     NOOP(2) Northcutt, W...</td>\n",
       "      <td>Christey&gt; A Bugtraq posting indicates that the...</td>\n",
       "    </tr>\n",
       "    <tr>\n",
       "      <th>1</th>\n",
       "      <td>CVE-1999-0002</td>\n",
       "      <td>Entry</td>\n",
       "      <td>Buffer overflow in NFS mountd gives root acces...</td>\n",
       "      <td>BID:121   |   URL:http://www.securityfocus.com...</td>\n",
       "      <td>NaN</td>\n",
       "      <td>NaN</td>\n",
       "      <td>NaN</td>\n",
       "    </tr>\n",
       "    <tr>\n",
       "      <th>2</th>\n",
       "      <td>CVE-1999-0003</td>\n",
       "      <td>Entry</td>\n",
       "      <td>Execute commands as root via buffer overflow i...</td>\n",
       "      <td>BID:122   |   URL:http://www.securityfocus.com...</td>\n",
       "      <td>NaN</td>\n",
       "      <td>NaN</td>\n",
       "      <td>NaN</td>\n",
       "    </tr>\n",
       "    <tr>\n",
       "      <th>3</th>\n",
       "      <td>CVE-1999-0004</td>\n",
       "      <td>Candidate</td>\n",
       "      <td>MIME buffer overflow in email clients, e.g. So...</td>\n",
       "      <td>CERT:CA-98.10.mime_buffer_overflows   |   MS:M...</td>\n",
       "      <td>Modified (19990621)</td>\n",
       "      <td>ACCEPT(8) Baker, Cole, Collins, Dik, Landfi...</td>\n",
       "      <td>Frech&gt; Extremely minor, but I believe e-mail i...</td>\n",
       "    </tr>\n",
       "    <tr>\n",
       "      <th>4</th>\n",
       "      <td>CVE-1999-0005</td>\n",
       "      <td>Entry</td>\n",
       "      <td>Arbitrary command execution via IMAP buffer ov...</td>\n",
       "      <td>BID:130   |   URL:http://www.securityfocus.com...</td>\n",
       "      <td>NaN</td>\n",
       "      <td>NaN</td>\n",
       "      <td>NaN</td>\n",
       "    </tr>\n",
       "  </tbody>\n",
       "</table>\n",
       "</div>"
      ],
      "text/plain": [
       "               0          1  \\\n",
       "0  CVE-1999-0001  Candidate   \n",
       "1  CVE-1999-0002      Entry   \n",
       "2  CVE-1999-0003      Entry   \n",
       "3  CVE-1999-0004  Candidate   \n",
       "4  CVE-1999-0005      Entry   \n",
       "\n",
       "                                                   2  \\\n",
       "0  ip_input.c in BSD-derived TCP/IP implementatio...   \n",
       "1  Buffer overflow in NFS mountd gives root acces...   \n",
       "2  Execute commands as root via buffer overflow i...   \n",
       "3  MIME buffer overflow in email clients, e.g. So...   \n",
       "4  Arbitrary command execution via IMAP buffer ov...   \n",
       "\n",
       "                                                   3                    4  \\\n",
       "0  BUGTRAQ:19981223 Re: CERT Advisory CA-98.13 - ...  Modified (20051217)   \n",
       "1  BID:121   |   URL:http://www.securityfocus.com...                  NaN   \n",
       "2  BID:122   |   URL:http://www.securityfocus.com...                  NaN   \n",
       "3  CERT:CA-98.10.mime_buffer_overflows   |   MS:M...  Modified (19990621)   \n",
       "4  BID:130   |   URL:http://www.securityfocus.com...                  NaN   \n",
       "\n",
       "                                                   5  \\\n",
       "0     MODIFY(1) Frech  |     NOOP(2) Northcutt, W...   \n",
       "1                                                NaN   \n",
       "2                                                NaN   \n",
       "3     ACCEPT(8) Baker, Cole, Collins, Dik, Landfi...   \n",
       "4                                                NaN   \n",
       "\n",
       "                                                   6  \n",
       "0  Christey> A Bugtraq posting indicates that the...  \n",
       "1                                                NaN  \n",
       "2                                                NaN  \n",
       "3  Frech> Extremely minor, but I believe e-mail i...  \n",
       "4                                                NaN  "
      ]
     },
     "execution_count": 9,
     "metadata": {},
     "output_type": "execute_result"
    }
   ],
   "source": [
    "df.head()"
   ]
  },
  {
   "cell_type": "code",
   "execution_count": 10,
   "metadata": {},
   "outputs": [
    {
     "name": "stdout",
     "output_type": "stream",
     "text": [
      "<class 'pandas.core.frame.DataFrame'>\n",
      "RangeIndex: 286560 entries, 0 to 286559\n",
      "Data columns (total 7 columns):\n",
      " #   Column  Non-Null Count   Dtype \n",
      "---  ------  --------------   ----- \n",
      " 0   0       286560 non-null  object\n",
      " 1   1       286560 non-null  object\n",
      " 2   2       286560 non-null  object\n",
      " 3   3       212787 non-null  object\n",
      " 4   4       283507 non-null  object\n",
      " 5   5       283507 non-null  object\n",
      " 6   6       1855 non-null    object\n",
      "dtypes: object(7)\n",
      "memory usage: 15.3+ MB\n"
     ]
    }
   ],
   "source": [
    "df.info()"
   ]
  },
  {
   "cell_type": "code",
   "execution_count": 4,
   "metadata": {},
   "outputs": [],
   "source": [
    "dataset = pd.read_csv('C:/Users/DELL/Desktop/finalyearproject/CVEFixes.csv')\n"
   ]
  },
  {
   "cell_type": "code",
   "execution_count": 5,
   "metadata": {},
   "outputs": [
    {
     "name": "stdout",
     "output_type": "stream",
     "text": [
      "<class 'pandas.core.frame.DataFrame'>\n",
      "RangeIndex: 31194 entries, 0 to 31193\n",
      "Data columns (total 3 columns):\n",
      " #   Column    Non-Null Count  Dtype \n",
      "---  ------    --------------  ----- \n",
      " 0   code      31160 non-null  object\n",
      " 1   language  31194 non-null  object\n",
      " 2   safety    31194 non-null  object\n",
      "dtypes: object(3)\n",
      "memory usage: 731.2+ KB\n"
     ]
    }
   ],
   "source": [
    "dataset.info()"
   ]
  },
  {
   "cell_type": "code",
   "execution_count": 6,
   "metadata": {},
   "outputs": [
    {
     "data": {
      "text/html": [
       "<div>\n",
       "<style scoped>\n",
       "    .dataframe tbody tr th:only-of-type {\n",
       "        vertical-align: middle;\n",
       "    }\n",
       "\n",
       "    .dataframe tbody tr th {\n",
       "        vertical-align: top;\n",
       "    }\n",
       "\n",
       "    .dataframe thead th {\n",
       "        text-align: right;\n",
       "    }\n",
       "</style>\n",
       "<table border=\"1\" class=\"dataframe\">\n",
       "  <thead>\n",
       "    <tr style=\"text-align: right;\">\n",
       "      <th></th>\n",
       "      <th>code</th>\n",
       "      <th>language</th>\n",
       "      <th>safety</th>\n",
       "    </tr>\n",
       "  </thead>\n",
       "  <tbody>\n",
       "    <tr>\n",
       "      <th>0</th>\n",
       "      <td>package org.bouncycastle.jcajce.provider.asymm...</td>\n",
       "      <td>java</td>\n",
       "      <td>vulnerable</td>\n",
       "    </tr>\n",
       "    <tr>\n",
       "      <th>1</th>\n",
       "      <td>&lt;?php\\n\\n\\n\\n/**\\n\\n * ownCloud - user_ldap\\n\\...</td>\n",
       "      <td>php</td>\n",
       "      <td>vulnerable</td>\n",
       "    </tr>\n",
       "    <tr>\n",
       "      <th>2</th>\n",
       "      <td>#!/usr/bin/env python\\n\\nfrom __future__ impor...</td>\n",
       "      <td>py</td>\n",
       "      <td>safe</td>\n",
       "    </tr>\n",
       "    <tr>\n",
       "      <th>3</th>\n",
       "      <td>/* -*- c-basic-offset: 8 -*-\\n\\n   rdesktop: A...</td>\n",
       "      <td>c</td>\n",
       "      <td>safe</td>\n",
       "    </tr>\n",
       "    <tr>\n",
       "      <th>4</th>\n",
       "      <td>&lt;!DOCTYPE html&gt;\\n\\n&lt;html&gt;\\n\\n    &lt;head&gt;\\n\\n   ...</td>\n",
       "      <td>html</td>\n",
       "      <td>safe</td>\n",
       "    </tr>\n",
       "  </tbody>\n",
       "</table>\n",
       "</div>"
      ],
      "text/plain": [
       "                                                code language      safety\n",
       "0  package org.bouncycastle.jcajce.provider.asymm...     java  vulnerable\n",
       "1  <?php\\n\\n\\n\\n/**\\n\\n * ownCloud - user_ldap\\n\\...      php  vulnerable\n",
       "2  #!/usr/bin/env python\\n\\nfrom __future__ impor...       py        safe\n",
       "3  /* -*- c-basic-offset: 8 -*-\\n\\n   rdesktop: A...        c        safe\n",
       "4  <!DOCTYPE html>\\n\\n<html>\\n\\n    <head>\\n\\n   ...     html        safe"
      ]
     },
     "execution_count": 6,
     "metadata": {},
     "output_type": "execute_result"
    }
   ],
   "source": [
    "dataset.head()"
   ]
  },
  {
   "cell_type": "code",
   "execution_count": 91,
   "metadata": {},
   "outputs": [],
   "source": [
    "description = df.iloc[:, 2]"
   ]
  },
  {
   "cell_type": "code",
   "execution_count": 15,
   "metadata": {},
   "outputs": [
    {
     "data": {
      "text/plain": [
       "0    ip_input.c in BSD-derived TCP/IP implementatio...\n",
       "1    Buffer overflow in NFS mountd gives root acces...\n",
       "2    Execute commands as root via buffer overflow i...\n",
       "3    MIME buffer overflow in email clients, e.g. So...\n",
       "4    Arbitrary command execution via IMAP buffer ov...\n",
       "Name: 2, dtype: object"
      ]
     },
     "execution_count": 15,
     "metadata": {},
     "output_type": "execute_result"
    }
   ],
   "source": [
    "description.head()"
   ]
  },
  {
   "cell_type": "code",
   "execution_count": 14,
   "metadata": {},
   "outputs": [
    {
     "data": {
      "text/plain": [
       "0"
      ]
     },
     "execution_count": 14,
     "metadata": {},
     "output_type": "execute_result"
    }
   ],
   "source": [
    "description.isnull().sum()"
   ]
  },
  {
   "cell_type": "code",
   "execution_count": 29,
   "metadata": {},
   "outputs": [
    {
     "name": "stderr",
     "output_type": "stream",
     "text": [
      "[nltk_data] Downloading package punkt to\n",
      "[nltk_data]     C:\\Users\\DELL\\AppData\\Roaming\\nltk_data...\n",
      "[nltk_data]   Package punkt is already up-to-date!\n"
     ]
    },
    {
     "data": {
      "text/plain": [
       "True"
      ]
     },
     "execution_count": 29,
     "metadata": {},
     "output_type": "execute_result"
    }
   ],
   "source": [
    "nltk.download('punkt')  #Pretrained model to break a sentence into a text list and retain each semantic unit as a component\n"
   ]
  },
  {
   "cell_type": "code",
   "execution_count": 64,
   "metadata": {},
   "outputs": [],
   "source": [
    "def word_segmentation(text):\n",
    "    words = word_tokenize(text)\n",
    "    return words\n"
   ]
  },
  {
   "cell_type": "code",
   "execution_count": 65,
   "metadata": {},
   "outputs": [
    {
     "name": "stdout",
     "output_type": "stream",
     "text": [
      "An\n"
     ]
    }
   ],
   "source": [
    "\n",
    "temp= word_segmentation(\"An information disclosure vulnerability exists when the Windows TCP/IP stack improperly handles fragmented IP packets, aka 'Windows TCP/IP Information Disclosure Vulnerability'\")\n",
    "print(temp[0])"
   ]
  },
  {
   "cell_type": "code",
   "execution_count": 92,
   "metadata": {},
   "outputs": [],
   "source": [
    "description = description.apply(word_segmentation)"
   ]
  },
  {
   "cell_type": "code",
   "execution_count": 77,
   "metadata": {},
   "outputs": [
    {
     "data": {
      "text/plain": [
       "0    [ip_input.c, in, BSD-derived, TCP/IP, implemen...\n",
       "1    [Buffer, overflow, in, NFS, mountd, gives, roo...\n",
       "2    [Execute, commands, as, root, via, buffer, ove...\n",
       "3    [MIME, buffer, overflow, in, email, clients, ,...\n",
       "4    [Arbitrary, command, execution, via, IMAP, buf...\n",
       "Name: 2, dtype: object"
      ]
     },
     "execution_count": 77,
     "metadata": {},
     "output_type": "execute_result"
    }
   ],
   "source": [
    "description.head()"
   ]
  },
  {
   "cell_type": "code",
   "execution_count": 98,
   "metadata": {},
   "outputs": [],
   "source": [
    "# word normalization - 1\n",
    "# removing numbers and decapitalize first letter of sentence\n",
    "\n",
    "def normalization1(list1):\n",
    "    \n",
    "    temp = []\n",
    "    for word in list1:\n",
    "        if not word.isnumeric():\n",
    "            temp.append(word)\n",
    "    if not temp[0][1:].isupper(): #if the entire word isn't capital\n",
    "        temp[0] = temp[0].lower()\n",
    "    return temp"
   ]
  },
  {
   "cell_type": "code",
   "execution_count": 99,
   "metadata": {},
   "outputs": [
    {
     "name": "stdout",
     "output_type": "stream",
     "text": [
      "['buffer', 'overflow', 'in', 'NFS', 'mountd', 'gives', 'root', 'access', 'to', 'remote', 'attackers', ',', 'mostly', 'in', 'Linux', 'systems', '.']\n"
     ]
    }
   ],
   "source": [
    "print(normalization1(description[1]))"
   ]
  },
  {
   "cell_type": "code",
   "execution_count": 100,
   "metadata": {},
   "outputs": [],
   "source": [
    "description = description.apply(normalization1)"
   ]
  },
  {
   "cell_type": "code",
   "execution_count": 101,
   "metadata": {},
   "outputs": [
    {
     "data": {
      "text/plain": [
       "0    [ip_input.c, in, BSD-derived, TCP/IP, implemen...\n",
       "1    [buffer, overflow, in, NFS, mountd, gives, roo...\n",
       "2    [execute, commands, as, root, via, buffer, ove...\n",
       "3    [MIME, buffer, overflow, in, email, clients, ,...\n",
       "4    [arbitrary, command, execution, via, IMAP, buf...\n",
       "Name: 2, dtype: object"
      ]
     },
     "execution_count": 101,
     "metadata": {},
     "output_type": "execute_result"
    }
   ],
   "source": [
    "description.head()"
   ]
  },
  {
   "cell_type": "code",
   "execution_count": 126,
   "metadata": {},
   "outputs": [
    {
     "name": "stderr",
     "output_type": "stream",
     "text": [
      "[nltk_data] Downloading package averaged_perceptron_tagger to\n",
      "[nltk_data]     C:\\Users\\DELL\\AppData\\Roaming\\nltk_data...\n",
      "[nltk_data]   Package averaged_perceptron_tagger is already up-to-\n",
      "[nltk_data]       date!\n"
     ]
    }
   ],
   "source": [
    "# word lemmatization\n",
    "\n",
    "nltk.download('averaged_perceptron_tagger')\n",
    "from lemminflect import getAllLemmas, getInflection\n",
    "\n",
    "def lemmatization(list1):\n",
    "    pos_tags = nltk.pos_tag(list1)\n",
    "\n",
    "# Apply transformations based on part-of-speech\n",
    "    transformed_sentence = []\n",
    "    for word, pos_tag in pos_tags:\n",
    "        if pos_tag.startswith('N'):  # Noun\n",
    "            lemmatizations = getAllLemmas(word, upos='NOUN').get('NOUN', [])\n",
    "            transformed_word = lemmatizations[0] if lemmatizations else word\n",
    "        elif pos_tag.startswith('V'):  # Verb\n",
    "            lemmatizations = getAllLemmas(word, upos='VERB').get('VERB', [])\n",
    "            transformed_word = lemmatizations[0] if lemmatizations else word\n",
    "        elif pos_tag.startswith('J'):  # Adjective\n",
    "            lemmatizations = getAllLemmas(word, upos='ADJ').get('ADJ', [])\n",
    "            transformed_word = lemmatizations[0] if lemmatizations else word\n",
    "        elif pos_tag.startswith('R'):  # Adverb\n",
    "            lemmatizations = getAllLemmas(word, upos='ADV').get('ADV', [])\n",
    "            transformed_word = lemmatizations[0] if lemmatizations else word\n",
    "        else:\n",
    "            transformed_word = word  # Keep other parts of speech unchanged\n",
    "\n",
    "        transformed_sentence.append(transformed_word)\n",
    "\n",
    "    return transformed_sentence\n",
    "\n",
    "    \n"
   ]
  },
  {
   "cell_type": "code",
   "execution_count": 127,
   "metadata": {},
   "outputs": [
    {
     "name": "stdout",
     "output_type": "stream",
     "text": [
      "['buffer', 'overflow', 'in', 'NFS', 'mountd', 'give', 'root', 'access', 'to', 'remote', 'attacker', ',', 'mostly', 'in', 'Linux', 'system', '.']\n"
     ]
    }
   ],
   "source": [
    "print(lemmatization(description[1]))"
   ]
  },
  {
   "cell_type": "code",
   "execution_count": 129,
   "metadata": {},
   "outputs": [],
   "source": [
    "description = description.apply(lemmatization)"
   ]
  },
  {
   "cell_type": "code",
   "execution_count": 130,
   "metadata": {},
   "outputs": [
    {
     "data": {
      "text/plain": [
       "0    [ip_input.c, in, BSD-derived, TCP/IP, implemen...\n",
       "1    [buffer, overflow, in, NFS, mountd, give, root...\n",
       "2    [execute, command, as, root, via, buffer, over...\n",
       "3    [MIME, buffer, overflow, in, email, client, ,,...\n",
       "4    [arbitrary, command, execution, via, IMAP, buf...\n",
       "Name: 2, dtype: object"
      ]
     },
     "execution_count": 130,
     "metadata": {},
     "output_type": "execute_result"
    }
   ],
   "source": [
    "description.head()"
   ]
  },
  {
   "cell_type": "code",
   "execution_count": 131,
   "metadata": {},
   "outputs": [
    {
     "name": "stderr",
     "output_type": "stream",
     "text": [
      "[nltk_data] Downloading package words to\n",
      "[nltk_data]     C:\\Users\\DELL\\AppData\\Roaming\\nltk_data...\n",
      "[nltk_data]   Unzipping corpora\\words.zip.\n"
     ]
    }
   ],
   "source": [
    "# noise removal\n",
    "\n",
    "# creating set for reserved words\n",
    "nltk.download('words')\n",
    "nltk_words = set(nltk.corpus.words.words())\n",
    "\n",
    "# Extended set of C/C++ keywords and common functions/commands\n",
    "cpp_keywords = set([\n",
    "    # C++ Keywords\n",
    "    \"auto\", \"const\", \"double\", \"float\", \"int\", \"short\", \"struct\", \"unsigned\", \"break\",\n",
    "    \"continue\", \"else\", \"for\", \"long\", \"signed\", \"switch\", \"void\", \"case\", \"default\",\n",
    "    \"enum\", \"goto\", \"register\", \"sizeof\", \"typedef\", \"volatile\", \"char\", \"do\", \"extern\",\n",
    "    \"if\", \"return\", \"static\", \"union\", \"while\", \"class\", \"delete\", \"friend\", \"inline\",\n",
    "    \"new\", \"template\", \"this\", \"virtual\", \"bool\", \"explicit\", \"mutable\", \"operator\",\n",
    "    \"throw\", \"typename\", \"wchar_t\", \"const_cast\", \"dynamic_cast\", \"reinterpret_cast\",\n",
    "    \"static_cast\",\n",
    "\n",
    "    # C Standard Library Functions\n",
    "    \"printf\", \"scanf\", \"getchar\", \"putchar\", \"malloc\", \"free\", \"calloc\", \"realloc\",\n",
    "\n",
    "    # C++ Standard Library Functions\n",
    "    \"cin\", \"cout\", \"cerr\", \"clog\", \"endl\", \"include\", \"iostream\", \"iomanip\", \"fstream\",\n",
    "    \"ifstream\", \"ofstream\", \"string\", \"vector\", \"map\", \"set\", \"list\", \"algorithm\",\n",
    "    \"iterator\", \"sort\", \"max\", \"min\", \"strlen\", \"strcmp\", \"strcat\", \"strcpy\", \"toupper\",\n",
    "    \"tolower\", \"stringstream\", \"tuple\", \"make_tuple\",\n",
    "\n",
    "    # Common C Commands\n",
    "    \"#define\", \"#include\", \"main\", \"sizeof\", \"NULL\", \"NULL_PTR\",\n",
    "])\n",
    "\n",
    "reserved_vocabulary = nltk_words.union(cpp_keywords)"
   ]
  },
  {
   "cell_type": "code",
   "execution_count": 133,
   "metadata": {},
   "outputs": [],
   "source": [
    "def noise_removal(list1):\n",
    "    temp =[]\n",
    "    for word in list1:\n",
    "        if word=='/' or word=='.': #remove file paths\n",
    "            continue \n",
    "        elif not word.islower(): #take words having uppercase letter(s)\n",
    "            temp.append(word)\n",
    "        elif word in reserved_vocabulary: # words from reserved vocabulary\n",
    "            temp.append(word)\n",
    "        else: #check if word combination in valid words\n",
    "            for i in range(1, len(word)):\n",
    "                prefix = word[:i]\n",
    "                suffix = word[i:]\n",
    "\n",
    "                # Check if both prefix and suffix are in the reserved vocabulary\n",
    "                if prefix in reserved_vocabulary and suffix in reserved_vocabulary:\n",
    "                    temp.append(word) \n",
    "    return temp\n"
   ]
  },
  {
   "cell_type": "code",
   "execution_count": 134,
   "metadata": {},
   "outputs": [
    {
     "name": "stdout",
     "output_type": "stream",
     "text": [
      "['buffer', 'overflow', 'in', 'NFS', 'mountd', 'give', 'root', 'access', 'to', 'remote', 'attacker', ',', 'mostly', 'in', 'Linux', 'system']\n"
     ]
    }
   ],
   "source": [
    "print(noise_removal(description[1]))"
   ]
  },
  {
   "cell_type": "code",
   "execution_count": 135,
   "metadata": {},
   "outputs": [],
   "source": [
    "description = description.apply(noise_removal)"
   ]
  },
  {
   "cell_type": "code",
   "execution_count": 136,
   "metadata": {},
   "outputs": [
    {
     "data": {
      "text/plain": [
       "0    [in, BSD-derived, TCP/IP, implementation, allo...\n",
       "1    [buffer, overflow, in, NFS, mountd, give, root...\n",
       "2    [execute, command, as, root, via, buffer, over...\n",
       "3    [MIME, buffer, overflow, in, email, email, cli...\n",
       "4    [arbitrary, command, execution, via, IMAP, buf...\n",
       "Name: 2, dtype: object"
      ]
     },
     "execution_count": 136,
     "metadata": {},
     "output_type": "execute_result"
    }
   ],
   "source": [
    "description.head()"
   ]
  },
  {
   "cell_type": "code",
   "execution_count": 140,
   "metadata": {},
   "outputs": [
    {
     "name": "stderr",
     "output_type": "stream",
     "text": [
      "[nltk_data] Downloading package stopwords to\n",
      "[nltk_data]     C:\\Users\\DELL\\AppData\\Roaming\\nltk_data...\n",
      "[nltk_data]   Unzipping corpora\\stopwords.zip.\n"
     ]
    }
   ],
   "source": [
    "# stop-word filtering\n",
    "nltk.download('stopwords')\n",
    "def remove_stopwords(list1):\n",
    "    return [i for i in list1 if i not in stopwords.words('english')]\n"
   ]
  },
  {
   "cell_type": "code",
   "execution_count": 141,
   "metadata": {},
   "outputs": [
    {
     "name": "stdout",
     "output_type": "stream",
     "text": [
      "['buffer', 'overflow', 'NFS', 'mountd', 'give', 'root', 'access', 'remote', 'attacker', ',', 'mostly', 'Linux', 'system']\n"
     ]
    }
   ],
   "source": [
    "print(remove_stopwords(description[1]))"
   ]
  },
  {
   "cell_type": "code",
   "execution_count": 143,
   "metadata": {},
   "outputs": [],
   "source": [
    "description = description.apply(remove_stopwords)"
   ]
  },
  {
   "cell_type": "code",
   "execution_count": 144,
   "metadata": {},
   "outputs": [
    {
     "data": {
      "text/plain": [
       "0    [BSD-derived, TCP/IP, implementation, allow, r...\n",
       "1    [buffer, overflow, NFS, mountd, give, root, ac...\n",
       "2    [execute, command, root, via, buffer, overflow...\n",
       "3    [MIME, buffer, overflow, email, email, client,...\n",
       "4    [arbitrary, command, execution, via, IMAP, buf...\n",
       "Name: 2, dtype: object"
      ]
     },
     "execution_count": 144,
     "metadata": {},
     "output_type": "execute_result"
    }
   ],
   "source": [
    "description.head()"
   ]
  },
  {
   "cell_type": "code",
   "execution_count": 146,
   "metadata": {},
   "outputs": [],
   "source": [
    "# word normalizaton 2\n",
    "\n",
    "#remove punctuations, symbols, special characters and convert all uppercase letters into lowercase\n",
    "\n",
    "def normalization2(list1):\n",
    "    temp=[]\n",
    "    for w in list1:\n",
    "        if w.isalpha():\n",
    "            temp.append(w.lower())\n",
    "    return temp"
   ]
  },
  {
   "cell_type": "code",
   "execution_count": 147,
   "metadata": {},
   "outputs": [
    {
     "name": "stdout",
     "output_type": "stream",
     "text": [
      "['buffer', 'overflow', 'nfs', 'mountd', 'give', 'root', 'access', 'remote', 'attacker', 'mostly', 'linux', 'system']\n"
     ]
    }
   ],
   "source": [
    "print(normalization2(description[1]))"
   ]
  },
  {
   "cell_type": "code",
   "execution_count": 148,
   "metadata": {},
   "outputs": [],
   "source": [
    "description = description.apply(normalization2)"
   ]
  },
  {
   "cell_type": "code",
   "execution_count": 149,
   "metadata": {},
   "outputs": [
    {
     "data": {
      "text/plain": [
       "0    [implementation, allow, remote, attacker, caus...\n",
       "1    [buffer, overflow, nfs, mountd, give, root, ac...\n",
       "2    [execute, command, root, via, buffer, overflow...\n",
       "3    [mime, buffer, overflow, email, email, client,...\n",
       "4    [arbitrary, command, execution, via, imap, buf...\n",
       "Name: 2, dtype: object"
      ]
     },
     "execution_count": 149,
     "metadata": {},
     "output_type": "execute_result"
    }
   ],
   "source": [
    "description.head()"
   ]
  },
  {
   "cell_type": "code",
   "execution_count": null,
   "metadata": {},
   "outputs": [],
   "source": []
  }
 ],
 "metadata": {
  "kernelspec": {
   "display_name": "Python 3",
   "language": "python",
   "name": "python3"
  },
  "language_info": {
   "codemirror_mode": {
    "name": "ipython",
    "version": 3
   },
   "file_extension": ".py",
   "mimetype": "text/x-python",
   "name": "python",
   "nbconvert_exporter": "python",
   "pygments_lexer": "ipython3",
   "version": "3.10.7"
  },
  "orig_nbformat": 4
 },
 "nbformat": 4,
 "nbformat_minor": 2
}
